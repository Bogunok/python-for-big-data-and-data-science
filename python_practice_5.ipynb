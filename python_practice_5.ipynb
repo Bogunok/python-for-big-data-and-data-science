{
  "nbformat": 4,
  "nbformat_minor": 0,
  "metadata": {
    "colab": {
      "provenance": []
    },
    "kernelspec": {
      "name": "python3",
      "display_name": "Python 3"
    },
    "language_info": {
      "name": "python"
    }
  },
  "cells": [
    {
      "cell_type": "markdown",
      "source": [
        "# I. OOP"
      ],
      "metadata": {
        "id": "5qV_sehzFCTp"
      }
    },
    {
      "cell_type": "markdown",
      "source": [
        "1. (6б). Створіть клас Animal, додайте три атрибути, один з яких має значення за замовчуванням та два методи на свій розсуд."
      ],
      "metadata": {
        "id": "tx_U_hOALyfg"
      }
    },
    {
      "cell_type": "code",
      "source": [
        "class Animal:\n",
        "  def __init__(self,speed, species, sound = \"\"):\n",
        "    self.species = species\n",
        "    self.speed = speed\n",
        "    self.sound = sound\n",
        "\n",
        "\n",
        "  def make_sound(self):\n",
        "    if self.sound:\n",
        "      print(f\"{self.species} says {self.sound}\")\n",
        "    else:\n",
        "      print(f\"{self.species} is silent\")\n",
        "\n",
        "\n",
        "  def move(self, speed):\n",
        "    print(f\"{self.species} is moving with a speed of {speed} km/h\")"
      ],
      "metadata": {
        "id": "-Vf895KaL88N"
      },
      "execution_count": 7,
      "outputs": []
    },
    {
      "cell_type": "markdown",
      "source": [
        "2. (2б). Створіть два обʼєкти цього класу, де один з обʼєктів створюється із дефолтним значенням атрибуту. На одному обʼєкті отримайте значення його атрибуту, а на іншому викличте один з його методів."
      ],
      "metadata": {
        "id": "X_UlOMB0L93w"
      }
    },
    {
      "cell_type": "code",
      "source": [
        "butterfly = Animal(species = \"Butterfly\", speed = 1)\n",
        "print(f\"Species of an animal is {butterfly.species}\")\n",
        "jaguar = Animal(species = \"Jaguar\", speed = 80, sound = \"Raaaar\")\n",
        "jaguar.make_sound()"
      ],
      "metadata": {
        "id": "7gBu0ESOMCpG",
        "colab": {
          "base_uri": "https://localhost:8080/"
        },
        "outputId": "38b81153-c5f9-4e51-95fc-0eae553dc295"
      },
      "execution_count": 8,
      "outputs": [
        {
          "output_type": "stream",
          "name": "stdout",
          "text": [
            "Species of an animal is Butterfly\n",
            "Jaguar says Raaaar\n"
          ]
        }
      ]
    },
    {
      "cell_type": "markdown",
      "source": [
        "3. (5б). Створіть клас, де атрибути мають різні рівні доступу. Спробуйте отримати їхні значення та опишіть результати."
      ],
      "metadata": {
        "id": "HoqSCZt1MHn5"
      }
    },
    {
      "cell_type": "code",
      "source": [
        "class Client:\n",
        "  def __init__(self, client_name, client_ID, age):\n",
        "    self.client_name = client_name  #public\n",
        "    self.__client_ID = client_ID    #private\n",
        "    self._age = age                 #protected\n",
        "\n",
        "\n",
        "client = Client(\"Ann\", 7823, 22)\n",
        "print(client.client_name)  #  can be accessed\n",
        "print(client._age)         #  can be accessed\n",
        "print(client.__client_ID)  #  will get an AttributeError because we can't access a private class member outside the class"
      ],
      "metadata": {
        "id": "r9b3vJxBMSPV",
        "colab": {
          "base_uri": "https://localhost:8080/",
          "height": 211
        },
        "outputId": "8bf200f8-7eb3-41e2-cad6-7dee9e1b3d51"
      },
      "execution_count": 6,
      "outputs": [
        {
          "output_type": "stream",
          "name": "stdout",
          "text": [
            "Ann\n",
            "22\n"
          ]
        },
        {
          "output_type": "error",
          "ename": "AttributeError",
          "evalue": "'Client' object has no attribute '__client_ID'",
          "traceback": [
            "\u001b[0;31m---------------------------------------------------------------------------\u001b[0m",
            "\u001b[0;31mAttributeError\u001b[0m                            Traceback (most recent call last)",
            "\u001b[0;32m<ipython-input-6-20600638a407>\u001b[0m in \u001b[0;36m<cell line: 11>\u001b[0;34m()\u001b[0m\n\u001b[1;32m      9\u001b[0m \u001b[0mprint\u001b[0m\u001b[0;34m(\u001b[0m\u001b[0mclient\u001b[0m\u001b[0;34m.\u001b[0m\u001b[0mclient_name\u001b[0m\u001b[0;34m)\u001b[0m  \u001b[0;31m#  can be accessed\u001b[0m\u001b[0;34m\u001b[0m\u001b[0;34m\u001b[0m\u001b[0m\n\u001b[1;32m     10\u001b[0m \u001b[0mprint\u001b[0m\u001b[0;34m(\u001b[0m\u001b[0mclient\u001b[0m\u001b[0;34m.\u001b[0m\u001b[0m_age\u001b[0m\u001b[0;34m)\u001b[0m         \u001b[0;31m#  can be accessed\u001b[0m\u001b[0;34m\u001b[0m\u001b[0;34m\u001b[0m\u001b[0m\n\u001b[0;32m---> 11\u001b[0;31m \u001b[0mprint\u001b[0m\u001b[0;34m(\u001b[0m\u001b[0mclient\u001b[0m\u001b[0;34m.\u001b[0m\u001b[0m__client_ID\u001b[0m\u001b[0;34m)\u001b[0m  \u001b[0;31m#  will get an AttributeError because we can't access a private class member outside the class\u001b[0m\u001b[0;34m\u001b[0m\u001b[0;34m\u001b[0m\u001b[0m\n\u001b[0m",
            "\u001b[0;31mAttributeError\u001b[0m: 'Client' object has no attribute '__client_ID'"
          ]
        }
      ]
    },
    {
      "cell_type": "markdown",
      "source": [
        "4. (7б). Як ви розумієте термін self? Для чого використовується метод __init __?"
      ],
      "metadata": {
        "id": "5op2m2vgMSkZ"
      }
    },
    {
      "cell_type": "markdown",
      "source": [
        "self посилається на поточний екземпляр класу. За допомогою нього ми можемо звернутися до атрибутів та методів класу. _ _init_ _ виконує ініціалізацію об'єкта та його атрибутів."
      ],
      "metadata": {
        "id": "vpiLv3DPGvba"
      }
    },
    {
      "cell_type": "markdown",
      "source": [
        "*місце для відповіді"
      ],
      "metadata": {
        "id": "DyiPqNRvMasx"
      }
    },
    {
      "cell_type": "markdown",
      "source": [
        "5. (9б). Створіть клас Фігура без атрибутів, з методом get_area для отримання площі фігури, що повертає 0 та __add __, який приймає self та other в якості аргументів, а повертає суму площин фігур self та other."
      ],
      "metadata": {
        "id": "-6X8EGfjMd2y"
      }
    },
    {
      "cell_type": "code",
      "source": [
        "class Figure:\n",
        "\n",
        "\n",
        "  def get_area():\n",
        "    return 0\n",
        "\n",
        "\n",
        "  def __add__(self, other):\n",
        "    return self.get_area() + other.get_area()\n"
      ],
      "metadata": {
        "id": "4rvO_wYUMaEr"
      },
      "execution_count": null,
      "outputs": []
    },
    {
      "cell_type": "markdown",
      "source": [
        "6. (11б). Створіть 2 дочірніх класи від Фігури: Трикутник та Коло, які мають атрибути, необхідні для розрахунку площин. Визначте метод get_area в кожному з них так, щоби вони розраховували площу в залежності від формули для кожного типу фігури. Створіть обʼєкт класу Трикутник та обʼєкт класу Коло. Виконайте операцію суми за допомогою оператора + між ними."
      ],
      "metadata": {
        "id": "SFcKnnv5Mo_z"
      }
    },
    {
      "cell_type": "code",
      "source": [
        "import math\n",
        "class Triangle(Figure):\n",
        "  def __init__(self, side_a, side_b, side_c):\n",
        "    self.side_a = side_a\n",
        "    self.side_b = side_b\n",
        "    self.side_c = side_c\n",
        "\n",
        "\n",
        "  def get_area(self, side_a, side_b, side_c):\n",
        "    perimeter = side_a + side_b + side_c\n",
        "    half_perimeter = perimeter / 2\n",
        "    heron_formula = pow(half_perimeter * (half_perimeter - side_a) * (half_perimeter - side_b) * (half_perimeter - side_c), 1/2)\n",
        "    return heron_formula\n",
        "\n",
        "class Circle(Figure):\n",
        "  def __init__(self, radius):\n",
        "    self.radius = radius\n",
        "\n",
        "\n",
        "  def get_area(self):\n",
        "    circle_area = math.pi * pow(self.radius, 2)\n",
        "    return circle_area\n",
        "\n",
        "\n",
        "circle = Circle(6)\n",
        "triangle = Triangle(6, 25, 29)\n",
        "circle_area = circle.get_area()\n",
        "triangle_area = triangle.get_area(6, 25, 29)\n",
        "sum_of_areas = circle_area + triangle_area\n",
        "print(f\"Circle area = {circle_area}\")\n",
        "print(f\"Triangle area = {triangle_area}\")\n",
        "print(f\"Sum of areas = {sum_of_areas}\")"
      ],
      "metadata": {
        "id": "H3GVNr69Muf3",
        "colab": {
          "base_uri": "https://localhost:8080/"
        },
        "outputId": "e41f8053-bba0-403e-9fa2-6225c90f7b46"
      },
      "execution_count": null,
      "outputs": [
        {
          "output_type": "stream",
          "name": "stdout",
          "text": [
            "Circle area = 113.09733552923255\n",
            "Triangle area = 60.0\n",
            "Sum of areas = 173.09733552923257\n"
          ]
        }
      ]
    },
    {
      "cell_type": "markdown",
      "source": [
        "7. (3б). Продемонструйте різницю між isinstance та issubclass."
      ],
      "metadata": {
        "id": "HCvR206YMvLK"
      }
    },
    {
      "cell_type": "code",
      "source": [
        "class Mammal:\n",
        "  pass\n",
        "\n",
        "class Person(Mammal):\n",
        "  pass\n",
        "\n",
        "class Car:\n",
        "  pass\n",
        "\n",
        "whale = Mammal()\n",
        "john = Person()\n",
        "audi = Car()\n",
        "print(isinstance(whale, Mammal))  # True\n",
        "print(isinstance(john, Person))   # True\n",
        "print(isinstance(audi, Mammal))   # False because object `audi` of class Car isn`t an object of class Mammal\n",
        "\n",
        "print(issubclass(Car, Mammal))     # False because Car isn`t a subclass of Mammal\n",
        "print(issubclass(Person, Mammal))  # True because Person is a subclass of Mammal"
      ],
      "metadata": {
        "id": "L_V1bBvDM0GN",
        "colab": {
          "base_uri": "https://localhost:8080/"
        },
        "outputId": "9b3980c2-d690-4fa2-be24-4d549599c5c3"
      },
      "execution_count": null,
      "outputs": [
        {
          "output_type": "stream",
          "name": "stdout",
          "text": [
            "True\n",
            "True\n",
            "False\n",
            "False\n",
            "True\n"
          ]
        }
      ]
    },
    {
      "cell_type": "markdown",
      "source": [
        "8. (13б). Створіть клас BankAccount з приватними атрибутами balance та account_number. Реалізуйте методи поповнення та зняття коштів, забезпечивши належну інкапсуляцію. Підказка: використовуйте декоратори property та setter."
      ],
      "metadata": {
        "id": "jjsaBZ-iM0Qq"
      }
    },
    {
      "cell_type": "code",
      "source": [
        "class BankAccount:\n",
        "  def __init__(self, balance, account_number):\n",
        "    self.__balance = balance\n",
        "    self.__account_number = account_number\n",
        "\n",
        "\n",
        "  @property\n",
        "  def balance(self):\n",
        "    return self.__balance\n",
        "\n",
        "\n",
        "  @balance.setter\n",
        "  def balance(self, new_balance):\n",
        "    if new_balance >= 0:\n",
        "        self._balance = new_balance\n",
        "    else:\n",
        "        print(\"Error: Balance cannot be negative.\")\n",
        "\n",
        "\n",
        "  @property\n",
        "  def account_number(self):\n",
        "    return self.__account_number\n",
        "\n",
        "\n",
        "  def account_replenishment(self, amount):\n",
        "    if amount >= 0:\n",
        "      self.__balance += amount\n",
        "      print(f\"Replenishment of the account by the {amount}. New balance: {self.__balance}\")\n",
        "    else:\n",
        "      print(\"Replenishment amount must be positive!\")\n",
        "\n",
        "\n",
        "  def withdrawal(self, amount):\n",
        "    if amount >= 0:\n",
        "      self.__balance -= amount\n",
        "      print(f\"Withdrawal by the amount of {amount}. New balance: {self.__balance}\")\n",
        "    else:\n",
        "      print(\"Withdrawal amount must be positive!\")\n",
        "\n",
        "\n",
        "my_account = BankAccount(balance = 3500, account_number = \"NS7689\")\n",
        "print(f\"Account number: {my_account.account_number}\")\n",
        "print(f\"Balance: {my_account.balance}\")\n",
        "\n",
        "my_account.account_replenishment(1000)\n",
        "my_account.withdrawal(300)"
      ],
      "metadata": {
        "id": "xCvZ7lh8M7YA",
        "colab": {
          "base_uri": "https://localhost:8080/"
        },
        "outputId": "ddd0abbb-9e90-4cb3-9a10-386f702c7179"
      },
      "execution_count": null,
      "outputs": [
        {
          "output_type": "stream",
          "name": "stdout",
          "text": [
            "Account number: NS7689\n",
            "Balance: 3500\n",
            "Replenishment of the account by the 1000. New balance: 4500\n",
            "Withdrawal by the amount of 300. New balance: 4200\n"
          ]
        }
      ]
    },
    {
      "cell_type": "markdown",
      "source": [
        "9. (11б). Створіть клас Library, який містить список об'єктів типу Book. Реалізуйте методи для додавання книги, видалення книги та відображення списку книг."
      ],
      "metadata": {
        "id": "tIzL2SJTM8ft"
      }
    },
    {
      "cell_type": "code",
      "source": [
        "class Book:\n",
        "  def __init__(self, title, author):\n",
        "    self.title = title\n",
        "    self.author = author\n",
        "\n",
        "class Library:\n",
        "  def __init__(self):\n",
        "    self.book_list = []\n",
        "\n",
        "  def add_book(self, book):\n",
        "    if isinstance(book, Book):\n",
        "      self.book_list.append(book)\n",
        "      print(f\"Book '{book.title}' written by {book.author} was successfully added to the library\")\n",
        "    else:\n",
        "      print(\"Invalid input type\")\n",
        "\n",
        "\n",
        "  def delete_book(self, title):\n",
        "    for book in self.book_list:\n",
        "      if book.title == title:\n",
        "        self.book_list.remove(book)\n",
        "        print(f\"The book '{book.title}' by {book.author} was removed from the library\")\n",
        "        return\n",
        "    print(f\"No book with title '{book.title}' was found in the library\")\n",
        "\n",
        "\n",
        "  def show_current_list_of_books(self):\n",
        "    if self.book_list:\n",
        "      print(\"Books available in the library: \")\n",
        "      for book in self.book_list:\n",
        "        print(f\"- '{book.title}' by {book.author}\")\n",
        "    else:\n",
        "      print(\"The library is empty\")\n",
        "\n",
        "library = Library()\n",
        "library.show_current_list_of_books()  # A message: 'the library is empty' will appear on the screen because any book hadn't been added to the library\n",
        "book1 = Book(\"The great Gatsby\", \"Scott Fitzgerald\")\n",
        "book2 = Book(\"The catcher in the rye\", \"J. D. Salinger\")\n",
        "book3 = Book(\"The poppy war\", \"Rebecca F. Kuang\")\n",
        "library.add_book(book1)\n",
        "library.add_book(book2)\n",
        "library.add_book(book3)\n",
        "library.show_current_list_of_books()\n",
        "library.delete_book(\"The catcher in the rye\")\n",
        "library.show_current_list_of_books()"
      ],
      "metadata": {
        "id": "HWxfJKLtNAUZ",
        "colab": {
          "base_uri": "https://localhost:8080/"
        },
        "outputId": "49051bac-f63f-4a7e-927f-9b336b94b7f6"
      },
      "execution_count": null,
      "outputs": [
        {
          "output_type": "stream",
          "name": "stdout",
          "text": [
            "The library is empty\n",
            "Book 'The great Gatsby' written by Scott Fitzgerald was successfully added to the library\n",
            "Book 'The catcher in the rye' written by J. D. Salinger was successfully added to the library\n",
            "Book 'The poppy war' written by Rebecca F. Kuang was successfully added to the library\n",
            "Books available in the library: \n",
            "- 'The great Gatsby' by Scott Fitzgerald\n",
            "- 'The catcher in the rye' by J. D. Salinger\n",
            "- 'The poppy war' by Rebecca F. Kuang\n",
            "The book 'The catcher in the rye' by J. D. Salinger was removed from the library\n",
            "Books available in the library: \n",
            "- 'The great Gatsby' by Scott Fitzgerald\n",
            "- 'The poppy war' by Rebecca F. Kuang\n"
          ]
        }
      ]
    },
    {
      "cell_type": "markdown",
      "source": [
        "10. (13б). Створіть клас Person з атрибутами name та age. Створіть ще один клас Employee з такими атрибутами, як department та salary. Створіть клас Manager, який успадковує обидва класи Person та Employee. Продемонструйте використання множинної спадковості, створивши обʼєкт класу Manager та отримавши mro для цього класу."
      ],
      "metadata": {
        "id": "lmV8pAwwNIqu"
      }
    },
    {
      "cell_type": "code",
      "source": [
        "class Person:\n",
        "  def __init__(self, name, age):\n",
        "    self.name = name\n",
        "    self.age = age\n",
        "\n",
        "\n",
        "class Employee:\n",
        "  def __init__(self, department, salary):\n",
        "    self.department = department\n",
        "    self.salary = salary\n",
        "\n",
        "\n",
        "class Manager(Person, Employee):\n",
        "  def __init__(self, name, age, department, salary):\n",
        "    Person.__init__(self, name, age)\n",
        "    Employee.__init__(self, department, salary)\n",
        "\n",
        "\n",
        "manager = Manager(name=\"Alex\", age=27, department=\"Data analytics\", salary=70000)\n",
        "print(f\"Name: {manager.name}\")\n",
        "print(f\"Age: {manager.age}\")\n",
        "print(f\"Department: {manager.department}\")\n",
        "print(f\"Salary: {manager.salary}\")\n",
        "print(f\"manager's mro is: {Manager.mro()}\")"
      ],
      "metadata": {
        "id": "R49grKlWNPeN",
        "colab": {
          "base_uri": "https://localhost:8080/"
        },
        "outputId": "6123b402-269e-45a3-8c40-2c2f766d0065"
      },
      "execution_count": 5,
      "outputs": [
        {
          "output_type": "stream",
          "name": "stdout",
          "text": [
            "Name: Alex\n",
            "Age: 27\n",
            "Department: Data analytics\n",
            "Salary: 70000\n",
            "manager's mro is: [<class '__main__.Manager'>, <class '__main__.Person'>, <class '__main__.Employee'>, <class 'object'>]\n"
          ]
        }
      ]
    },
    {
      "cell_type": "markdown",
      "source": [
        "# II. Iterator"
      ],
      "metadata": {
        "id": "dIJyUiNBFG8G"
      }
    },
    {
      "cell_type": "markdown",
      "source": [
        "11. (4б). Визначте рядок(str) з 4ма різними за значенням символами. Створіть ітератор на основі цього рядка. Викличте 5 разів функцію next на ітераторі, 4ри перших з них огорніть у ф-цію print()."
      ],
      "metadata": {
        "id": "13vsm0NyKIzL"
      }
    },
    {
      "cell_type": "code",
      "source": [
        "my_str = \"1234\"\n",
        "iterator = iter(my_str)\n",
        "print(next(iterator))\n",
        "print(next(iterator))\n",
        "print(next(iterator))\n",
        "print(next(iterator))\n",
        "next(iterator)  # Will get error `Stopiteration` because we have exceeded the dimensionality of our string (it has 4 characters but we are trying to call function next() five times)"
      ],
      "metadata": {
        "id": "81ntabAkKuz-",
        "colab": {
          "base_uri": "https://localhost:8080/",
          "height": 245
        },
        "outputId": "a4785eac-6bb9-4109-caa3-ab60a376c739"
      },
      "execution_count": 2,
      "outputs": [
        {
          "output_type": "stream",
          "name": "stdout",
          "text": [
            "1\n",
            "2\n",
            "3\n",
            "4\n"
          ]
        },
        {
          "output_type": "error",
          "ename": "StopIteration",
          "evalue": "",
          "traceback": [
            "\u001b[0;31m---------------------------------------------------------------------------\u001b[0m",
            "\u001b[0;31mStopIteration\u001b[0m                             Traceback (most recent call last)",
            "\u001b[0;32m<ipython-input-2-79c370a60327>\u001b[0m in \u001b[0;36m<cell line: 7>\u001b[0;34m()\u001b[0m\n\u001b[1;32m      5\u001b[0m \u001b[0mprint\u001b[0m\u001b[0;34m(\u001b[0m\u001b[0mnext\u001b[0m\u001b[0;34m(\u001b[0m\u001b[0miterator\u001b[0m\u001b[0;34m)\u001b[0m\u001b[0;34m)\u001b[0m\u001b[0;34m\u001b[0m\u001b[0;34m\u001b[0m\u001b[0m\n\u001b[1;32m      6\u001b[0m \u001b[0mprint\u001b[0m\u001b[0;34m(\u001b[0m\u001b[0mnext\u001b[0m\u001b[0;34m(\u001b[0m\u001b[0miterator\u001b[0m\u001b[0;34m)\u001b[0m\u001b[0;34m)\u001b[0m\u001b[0;34m\u001b[0m\u001b[0;34m\u001b[0m\u001b[0m\n\u001b[0;32m----> 7\u001b[0;31m \u001b[0mnext\u001b[0m\u001b[0;34m(\u001b[0m\u001b[0miterator\u001b[0m\u001b[0;34m)\u001b[0m\u001b[0;34m\u001b[0m\u001b[0;34m\u001b[0m\u001b[0m\n\u001b[0m",
            "\u001b[0;31mStopIteration\u001b[0m: "
          ]
        }
      ]
    },
    {
      "cell_type": "markdown",
      "source": [
        "А що якщо викликати цю ж функцію на рядку?"
      ],
      "metadata": {
        "id": "aekWHGXOLRsO"
      }
    },
    {
      "cell_type": "code",
      "source": [
        "next(my_str)  # we will get 'TypeError: 'str' object is not an iterator' because string isn't an iterable object"
      ],
      "metadata": {
        "id": "mxATGsErLV1i",
        "colab": {
          "base_uri": "https://localhost:8080/",
          "height": 141
        },
        "outputId": "db810c4e-7556-4d93-d6f8-de66c47070cb"
      },
      "execution_count": 3,
      "outputs": [
        {
          "output_type": "error",
          "ename": "TypeError",
          "evalue": "'str' object is not an iterator",
          "traceback": [
            "\u001b[0;31m---------------------------------------------------------------------------\u001b[0m",
            "\u001b[0;31mTypeError\u001b[0m                                 Traceback (most recent call last)",
            "\u001b[0;32m<ipython-input-3-b507c466c498>\u001b[0m in \u001b[0;36m<cell line: 1>\u001b[0;34m()\u001b[0m\n\u001b[0;32m----> 1\u001b[0;31m \u001b[0mnext\u001b[0m\u001b[0;34m(\u001b[0m\u001b[0mmy_str\u001b[0m\u001b[0;34m)\u001b[0m\u001b[0;34m\u001b[0m\u001b[0;34m\u001b[0m\u001b[0m\n\u001b[0m",
            "\u001b[0;31mTypeError\u001b[0m: 'str' object is not an iterator"
          ]
        }
      ]
    },
    {
      "cell_type": "markdown",
      "source": [
        " 12. (5б). Опишіть своїми словами в одному реченні, як ви розумієте різницю між ітерабельними обʼєктами та ітераторами (можна на прикладі)."
      ],
      "metadata": {
        "id": "XwtMEopwJ4pH"
      }
    },
    {
      "cell_type": "markdown",
      "source": [
        "*місце для відповіді"
      ],
      "metadata": {
        "id": "-sHrODc3KFn8"
      }
    },
    {
      "cell_type": "markdown",
      "source": [
        "По ітерабельним об'єктам (наприклад, список) ми можемо пройтися за допомогою циклу, такого як for, а ітератор у свою чергу реалізує інтерфейс ітератора, має метод next() і може зберігати стан ітерації, наприклад, пересуватися по послідовності одного елемента за одним."
      ],
      "metadata": {
        "id": "qwqKt0Yo5t07"
      }
    },
    {
      "cell_type": "markdown",
      "source": [
        "13. (11б). Створіть клас, що має визначений Iterator Protocol та при кожному виклику next повертає літери англійської абетки, поки вони не вичерпаються."
      ],
      "metadata": {
        "id": "E9qJWmNbK8Gl"
      }
    },
    {
      "cell_type": "code",
      "source": [
        "class EnglishAlphabetIterator:\n",
        "  def __init__(self):\n",
        "    self.current_letter = ord('A')  # function ord() returns numerical representation of the symbol in Unicode table\n",
        "\n",
        "\n",
        "  def __iter__(self):\n",
        "       return self\n",
        "\n",
        "\n",
        "  def __next__(self):\n",
        "      if self.current_letter <= ord('Z'):\n",
        "          letter = chr(self.current_letter)  # function chr() returns character represented by the Unicode numeric code\n",
        "          self.current_letter += 1\n",
        "          return letter\n",
        "      else:\n",
        "          raise StopIteration\n",
        "\n",
        "\n",
        "alphabet_iterator = EnglishAlphabetIterator()\n",
        "for _ in range(26):\n",
        "  print(next(alphabet_iterator))"
      ],
      "metadata": {
        "id": "cqx-g_RsLo6I",
        "colab": {
          "base_uri": "https://localhost:8080/"
        },
        "outputId": "f0bdb8bc-eea2-49c8-b4ae-382efe69c114"
      },
      "execution_count": 4,
      "outputs": [
        {
          "output_type": "stream",
          "name": "stdout",
          "text": [
            "A\n",
            "B\n",
            "C\n",
            "D\n",
            "E\n",
            "F\n",
            "G\n",
            "H\n",
            "I\n",
            "J\n",
            "K\n",
            "L\n",
            "M\n",
            "N\n",
            "O\n",
            "P\n",
            "Q\n",
            "R\n",
            "S\n",
            "T\n",
            "U\n",
            "V\n",
            "W\n",
            "X\n",
            "Y\n",
            "Z\n"
          ]
        }
      ]
    },
    {
      "cell_type": "markdown",
      "source": [
        "# Вітаю! Ви велика(ий) молодець, що впоралась(вся). Похваліть себе та побалуйте чимось приємним. Я Вами пишаюся."
      ],
      "metadata": {
        "id": "Z3E3S_s1Fv7-"
      }
    }
  ]
}